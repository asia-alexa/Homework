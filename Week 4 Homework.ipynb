{
 "cells": [
  {
   "cell_type": "markdown",
   "metadata": {},
   "source": [
    "# what are python Moduels?\n",
    "- A collection of code or functions\n",
    "\n",
    "\n",
    "\n",
    "\n",
    "# What is a benefit of using exception handling\n",
    "-exception blocking is beneficial because it catches and errors with in the code\n",
    "\n",
    "# what are four components used in exception handling\n",
    "## -Try, Else, Except, Finally\n",
    "\n",
    "# NumPy arrays are like what data type?\n",
    "- NumPy is just like a list\n",
    "\n",
    "# What is one of the main benefits using NumPy arrays\n",
    "- NumPy arrays occupy less space, they are faster, and more convienient\n",
    "\n",
    "# What is one of the main requirements about the 'dtype' of NumPy arrays?\n",
    "-all elements within a single array should have the same data type\n",
    "\n",
    "# Of the 10 uses of NumPy, name 2\n",
    "- Reshape, Array\n",
    "\n",
    "# Name one of the other libraries we'll use with NumPy?\n",
    "-Pandas\n",
    "\n",
    "# What is the shape of NumPy arrays?\n",
    "-The number of `dimensions` and items in an array defines its `SHAPE`\n",
    "\n",
    "# What is a Tensor?\n",
    "-an array with 3+ demensions\n",
    "\n",
    "# Name a reason why it's better using  NumPy for Data Analysis than using a Python List?\n",
    "-faster and more compact\n",
    "\n",
    "# When creating an \"empty\" array, where do the elements come from?\n",
    "-initilaizer\n",
    "\n",
    "\n"
   ]
  },
  {
   "cell_type": "code",
   "execution_count": 27,
   "metadata": {},
   "outputs": [
    {
     "name": "stdout",
     "output_type": "stream",
     "text": [
      "Renting is more affordable\n"
     ]
    }
   ],
   "source": [
    "# Create an if statement: if 'age' is greater than or equal to 25, print \"Renting a car is more affordable\", \n",
    "##however if 'age' is less than 25, print \"Renting a car is very expensive.\n",
    "\n",
    "\n",
    "age = int(input(\"Enter age here:\"))\n",
    "\n",
    "if age >= 25:\n",
    "    print(\"Renting is more affordable\")\n",
    "\n",
    "else:\n",
    "    print(\"Renting is more expensive.\")\n",
    "\n"
   ]
  },
  {
   "cell_type": "code",
   "execution_count": 28,
   "metadata": {},
   "outputs": [
    {
     "name": "stdout",
     "output_type": "stream",
     "text": [
      "Renting a car is very expensive.\n"
     ]
    }
   ],
   "source": [
    "# Create and chain an if-else  statement: if 'age' is greater than or equal to 25, print \"Renting a car is more affordable.\" If 'age' is less than 25 but greater than or equal to 18,\n",
    "#print \"Renting a car is very expensive.\" Finally, if age is less than 18, print \"You cannot legally rent a car.\"\n",
    "\n",
    "age = int(input(\"Enter your age: \"))\n",
    "\n",
    "if age >= 25:\n",
    "    print(\"Renting a car is more affordable.\")\n",
    "elif age >= 18:\n",
    "    print(\"Renting a car is very expensive.\")\n",
    "else:\n",
    "    print(\"You cannot legally rent a car.\")\n"
   ]
  },
  {
   "cell_type": "code",
   "execution_count": 29,
   "metadata": {},
   "outputs": [
    {
     "name": "stdout",
     "output_type": "stream",
     "text": [
      "Total characters in the string: 43\n",
      "Vowels in the string: e, u, i, o, o, u, o, e, e, a, o\n"
     ]
    }
   ],
   "source": [
    "#3. Loop over the following string to (1) count all the characters in the string and (2) print out all the vowels -- \n",
    "#\"The quick brown fox jumps over the lazy dog\"\n",
    "\n",
    "text = \"The quick brown fox jumps over the lazy dog\"\n",
    "character_count = 0\n",
    "vowels = \"AEIOUaeiou\"\n",
    "vowel_list = []\n",
    "for char in text:\n",
    "    character_count += 1\n",
    "    if char in vowels:\n",
    "        vowel_list.append(char)\n",
    "\n",
    "print(f\"Total characters in the string: {character_count}\")\n",
    "print(\"Vowels in the string:\", \", \".join(vowel_list))"
   ]
  },
  {
   "cell_type": "code",
   "execution_count": 31,
   "metadata": {},
   "outputs": [
    {
     "name": "stdout",
     "output_type": "stream",
     "text": [
      "auburn trousers\n",
      "Dark Sapphire trousers\n",
      "burnt sienna trousers\n",
      "gunmetal blue trousers\n",
      "cerise trousers\n",
      "fuchsia trousers\n",
      "maple trousers\n",
      "aqua trousers\n",
      "auburn blouse\n",
      "Dark Sapphire blouse\n",
      "burnt sienna blouse\n",
      "gunmetal blue blouse\n",
      "cerise blouse\n",
      "fuchsia blouse\n",
      "maple blouse\n",
      "aqua blouse\n",
      "auburn bandana\n",
      "Dark Sapphire bandana\n",
      "burnt sienna bandana\n",
      "gunmetal blue bandana\n",
      "cerise bandana\n",
      "fuchsia bandana\n",
      "maple bandana\n",
      "aqua bandana\n",
      "auburn cumber band\n",
      "Dark Sapphire cumber band\n",
      "burnt sienna cumber band\n",
      "gunmetal blue cumber band\n",
      "cerise cumber band\n",
      "fuchsia cumber band\n",
      "maple cumber band\n",
      "aqua cumber band\n",
      "auburn blazer\n",
      "Dark Sapphire blazer\n",
      "burnt sienna blazer\n",
      "gunmetal blue blazer\n",
      "cerise blazer\n",
      "fuchsia blazer\n",
      "maple blazer\n",
      "aqua blazer\n",
      "auburn vest\n",
      "Dark Sapphire vest\n",
      "burnt sienna vest\n",
      "gunmetal blue vest\n",
      "cerise vest\n",
      "fuchsia vest\n",
      "maple vest\n",
      "aqua vest\n",
      "auburn french beret\n",
      "Dark Sapphire french beret\n",
      "burnt sienna french beret\n",
      "gunmetal blue french beret\n",
      "cerise french beret\n",
      "fuchsia french beret\n",
      "maple french beret\n",
      "aqua french beret\n",
      "auburn scarf\n",
      "Dark Sapphire scarf\n",
      "burnt sienna scarf\n",
      "gunmetal blue scarf\n",
      "cerise scarf\n",
      "fuchsia scarf\n",
      "maple scarf\n",
      "aqua scarf\n",
      "auburn stole\n",
      "Dark Sapphire stole\n",
      "burnt sienna stole\n",
      "gunmetal blue stole\n",
      "cerise stole\n",
      "fuchsia stole\n",
      "maple stole\n",
      "aqua stole\n"
     ]
    }
   ],
   "source": [
    "couture = [\"trousers\", \"blouse\", \"bandana\", \"cumber band\", \"blazer\", \"vest\", \"french beret\", \"scarf\", \"stole\"]\n",
    "panettone = {\"cerise\", \"fuchsia\", \"aqua\", \"maple\", \"auburn\", \"burnt sienna\", \"gunmetal blue\", \"Dark Sapphire\"}\n",
    "\n",
    "for clothing in couture:\n",
    "    for color in panettone:\n",
    "        print(f\"{color} {clothing}\")\n"
   ]
  },
  {
   "cell_type": "code",
   "execution_count": 32,
   "metadata": {},
   "outputs": [
    {
     "name": "stdout",
     "output_type": "stream",
     "text": [
      "The sum of numbers from 1 to 100 is: 5050\n"
     ]
    }
   ],
   "source": [
    "# Use range as a loop to calculate the sum of all the numbers from 1 to 100\n",
    "\n",
    "\n",
    "total_sum = 0\n",
    "\n",
    "for number in range(1, 101):\n",
    "    total_sum += number\n",
    "\n",
    "print(\"The sum of numbers from 1 to 100 is:\", total_sum)"
   ]
  },
  {
   "cell_type": "code",
   "execution_count": 34,
   "metadata": {},
   "outputs": [
    {
     "name": "stdout",
     "output_type": "stream",
     "text": [
      "banana\n"
     ]
    }
   ],
   "source": [
    "#Print the second item in this fruits list.\n",
    "#    [\"apple\", \"banana\", \"cherry\"]\n",
    "\n",
    "fruits = [\"apple\", \"banana\", \"cherry\"]\n",
    "print(fruits[1])"
   ]
  },
  {
   "cell_type": "code",
   "execution_count": 35,
   "metadata": {},
   "outputs": [
    {
     "name": "stdout",
     "output_type": "stream",
     "text": [
      "['kiwi', 'banana', 'cherry']\n"
     ]
    }
   ],
   "source": [
    "fruits = [\"apple\", \"banana\", \"cherry\"]\n",
    "fruits[0] = \"kiwi\"\n",
    "print(fruits)"
   ]
  },
  {
   "cell_type": "code",
   "execution_count": 36,
   "metadata": {},
   "outputs": [
    {
     "name": "stdout",
     "output_type": "stream",
     "text": [
      "['apple', 'banana', 'cherry', 'orange']\n"
     ]
    }
   ],
   "source": [
    "# Use the append method to add \"orange\" to the fruits list.\n",
    "#    [\"apple\", \"banana\", \"cherry\"]\n",
    "\n",
    "fruits = [\"apple\", \"banana\", \"cherry\"]\n",
    "fruits.append(\"orange\")\n",
    "print(fruits)"
   ]
  },
  {
   "cell_type": "code",
   "execution_count": 37,
   "metadata": {},
   "outputs": [
    {
     "name": "stdout",
     "output_type": "stream",
     "text": [
      "['apple', 'lemon', 'banana', 'cherry']\n"
     ]
    }
   ],
   "source": [
    "#Use the insert method to add \"lemon\" as the second item in the fruits list.\n",
    "#    [\"apple\", \"banana\", \"cherry\"]\n",
    "\n",
    "fruits = [\"apple\", \"banana\", \"cherry\"]\n",
    "fruits.insert(1, \"lemon\")\n",
    "print(fruits)\n"
   ]
  },
  {
   "cell_type": "code",
   "execution_count": 38,
   "metadata": {},
   "outputs": [
    {
     "name": "stdout",
     "output_type": "stream",
     "text": [
      "['apple', 'cherry']\n"
     ]
    }
   ],
   "source": [
    "#Use the remove method to remove \"banana\" from the fruits list.\n",
    "#    [\"apple\", \"banana\", \"cherry\"]\n",
    "\n",
    "fruits = [\"apple\", \"banana\", \"cherry\"]\n",
    "fruits.remove(\"banana\")\n",
    "print(fruits)"
   ]
  },
  {
   "cell_type": "code",
   "execution_count": 39,
   "metadata": {},
   "outputs": [
    {
     "name": "stdout",
     "output_type": "stream",
     "text": [
      "3rd item: kiwi\n",
      "2nd to last item: melon\n"
     ]
    }
   ],
   "source": [
    "#Use negative indexing to print the 3rd and 2nd to last items in the list.\n",
    "#    [\"apple\", \"banana\", \"cherry\", \"orange\", \"kiwi\", \"melon\", \"mango\"]\n",
    "\n",
    "fruits = [\"apple\", \"banana\", \"cherry\", \"orange\", \"kiwi\", \"melon\", \"mango\"]\n",
    "print(\"3rd item:\", fruits[-3])\n",
    "print(\"2nd to last item:\", fruits[-2])"
   ]
  },
  {
   "cell_type": "code",
   "execution_count": 40,
   "metadata": {},
   "outputs": [
    {
     "name": "stdout",
     "output_type": "stream",
     "text": [
      "['cherry', 'orange', 'kiwi']\n"
     ]
    }
   ],
   "source": [
    "#Use a range of indexes to print the third, fourth, and fifth item in the list.\n",
    "#    [\"apple\", \"banana\", \"cherry\", \"orange\", \"kiwi\", \"melon\", \"mango\"]\n",
    "\n",
    "fruits = [\"apple\", \"banana\", \"cherry\", \"orange\", \"kiwi\", \"melon\", \"mango\"]\n",
    "subset = fruits[2:5]  # Using a range of indexes (2, 3, 4)\n",
    "print(subset)\n"
   ]
  },
  {
   "cell_type": "code",
   "execution_count": 41,
   "metadata": {},
   "outputs": [
    {
     "name": "stdout",
     "output_type": "stream",
     "text": [
      "Number of items in the list: 7\n"
     ]
    }
   ],
   "source": [
    "#Use the correct syntax to print the number of items in the list.\n",
    "#    [\"apple\", \"banana\", \"cherry\", \"orange\", \"kiwi\", \"melon\", \"mango\"]\n",
    "\n",
    "fruits = [\"apple\", \"banana\", \"cherry\", \"orange\", \"kiwi\", \"melon\", \"mango\"]\n",
    "num_items = len(fruits)\n",
    "print(\"Number of items in the list:\", num_items)\n"
   ]
  },
  {
   "cell_type": "code",
   "execution_count": 43,
   "metadata": {},
   "outputs": [
    {
     "name": "stdout",
     "output_type": "stream",
     "text": [
      "['orange', 'melon', 'mango', 'kiwi', 'cherry', 'banana', 'apple']\n"
     ]
    }
   ],
   "source": [
    "#Use the correct syntax to sort this list in reverse order\n",
    "#    [\"apple\", \"banana\", \"cherry\", \"orange\", \"kiwi\", \"melon\", \"mango\"]\n",
    "\n",
    "fruits = [\"apple\", \"banana\", \"cherry\", \"orange\", \"kiwi\", \"melon\", \"mango\"]\n",
    "fruits.sort(reverse=True)\n",
    "print(fruits)\n"
   ]
  }
 ],
 "metadata": {
  "kernelspec": {
   "display_name": "Python 3",
   "language": "python",
   "name": "python3"
  },
  "language_info": {
   "codemirror_mode": {
    "name": "ipython",
    "version": 3
   },
   "file_extension": ".py",
   "mimetype": "text/x-python",
   "name": "python",
   "nbconvert_exporter": "python",
   "pygments_lexer": "ipython3",
   "version": "3.11.4"
  },
  "orig_nbformat": 4
 },
 "nbformat": 4,
 "nbformat_minor": 2
}
