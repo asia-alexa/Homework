{
 "cells": [
  {
   "cell_type": "markdown",
   "metadata": {},
   "source": [
    "#  What does Pandas stand for?\n",
    "-Python Data Analysis Library\n",
    "#  What are the 2 collections used in Pandas\n",
    "- series, dataframe\n",
    "#  Name 4 things Pandas can do for us\n",
    "- data cleansing, data normalization, data visualization, data inspection\n",
    "# To permanently sort a DataFrame, which keyword should one use with the `df.sort()` method?\n",
    "-df.sort_VALUES\n",
    "# What is a CSV?\n",
    "-useful for handling structured data without the complexity of proprietary file formats\n",
    "# When cleaning data what values do we not like in our data?\n",
    "- outliners "
   ]
  },
  {
   "cell_type": "code",
   "execution_count": 1,
   "metadata": {},
   "outputs": [
    {
     "name": "stdout",
     "output_type": "stream",
     "text": [
      "Original array:\n",
      "[ 0  1  2  3  4  5  6  7  8  9 10 11]\n",
      "Reshaped array:\n",
      "[[[ 0  1]\n",
      "  [ 2  3]\n",
      "  [ 4  5]]\n",
      "\n",
      " [[ 6  7]\n",
      "  [ 8  9]\n",
      "  [10 11]]]\n"
     ]
    }
   ],
   "source": [
    "#Import NumPy, use one of the NumPy methods and create an array with a shape of (2, 3, 2).\n",
    "# You can use the reshape method -- `.reshape()`\n",
    "\n",
    "import numpy as np\n",
    "\n",
    "\n",
    "original_array = np.array([1, 2, 3, 4, 5, 6, 7, 8, 9, 10, 11, 12])\n",
    "reshaped_array = original_array.reshape(2, 3, 2)\n",
    "\n",
    "print(\"Original array:\")\n",
    "print(original_array)\n",
    "print(\"Reshaped array:\")\n",
    "print(reshaped_array)"
   ]
  },
  {
   "cell_type": "code",
   "execution_count": 18,
   "metadata": {},
   "outputs": [
    {
     "name": "stdout",
     "output_type": "stream",
     "text": [
      "[ 0.  4.  8. 12. 16. 20.]\n"
     ]
    }
   ],
   "source": [
    "#8. Use NumPy `.linspace()` to create an array with 6 linearly spaced values between 0 and 20\n",
    "\n",
    "import numpy as np\n",
    "\n",
    "\n",
    "linear_array = np.linspace(0, 20, 6)\n",
    "\n",
    "print(linear_array)"
   ]
  },
  {
   "cell_type": "code",
   "execution_count": 17,
   "metadata": {},
   "outputs": [
    {
     "name": "stdout",
     "output_type": "stream",
     "text": [
      "Original array:\n",
      "[ 0.  4.  8. 12. 16. 20.]\n",
      "Deep copy array:\n",
      "[ 0.  4.  8. 12. 16. 20.]\n"
     ]
    }
   ],
   "source": [
    "#Make a Deep Copy of the above array\n",
    "\n",
    "import numpy as np\n",
    "import copy\n",
    "\n",
    "\n",
    "linear_array = np.linspace(0, 20, 6)\n",
    "deep_copy_array = copy.deepcopy(linear_array)\n",
    "\n",
    "print(\"Original array:\")\n",
    "print(linear_array)\n",
    "print(\"Deep copy array:\")\n",
    "print(deep_copy_array)\n"
   ]
  },
  {
   "cell_type": "code",
   "execution_count": 19,
   "metadata": {},
   "outputs": [
    {
     "name": "stdout",
     "output_type": "stream",
     "text": [
      "[[25 16]\n",
      " [11  2]\n",
      " [13  4]\n",
      " [ 7 81]\n",
      " [ 5  6]\n",
      " [11 12]]\n"
     ]
    }
   ],
   "source": [
    "#concatenate these 3 arrays into a new array named 'newArray'...\n",
    "#    ```python\n",
    "#            ([[25, 16]])\n",
    "#            ([[11, 2], [13, 4]])\n",
    "#            ([[7, 81], [5, 6], [11, 12]])\n",
    "#    ```\n",
    "\n",
    "import numpy as np\n",
    "\n",
    "\n",
    "array1 = np.array([[25, 16]])\n",
    "array2 = np.array([[11, 2], [13, 4]])\n",
    "array3 = np.array([[7, 81], [5, 6], [11, 12]])\n",
    "newArray = np.concatenate((array1, array2, array3), axis=0)\n",
    "\n",
    "print(newArray)"
   ]
  },
  {
   "cell_type": "code",
   "execution_count": 24,
   "metadata": {},
   "outputs": [
    {
     "name": "stdout",
     "output_type": "stream",
     "text": [
      "[[ 5  2]\n",
      " [ 7  4]\n",
      " [11  6]\n",
      " [11 12]\n",
      " [13 16]\n",
      " [25 81]]\n"
     ]
    }
   ],
   "source": [
    "#Sort 'newArray' in order into 'sortedArray'\n",
    "\n",
    "import numpy as np\n",
    "\n",
    "newArray = np.array([[25, 16], [11, 2], [13, 4], [7, 81], [5, 6], [11, 12]])\n",
    "sortedArray = np.sort(newArray, axis=0)\n",
    "\n",
    "print(sortedArray)"
   ]
  },
  {
   "cell_type": "code",
   "execution_count": 21,
   "metadata": {},
   "outputs": [
    {
     "name": "stdout",
     "output_type": "stream",
     "text": [
      "Tuple 1:\n",
      "[1 2]\n",
      "[3 4]\n",
      "Tuple 2:\n",
      "[7 8]\n",
      "[ 9 10]\n"
     ]
    }
   ],
   "source": [
    "#Unpack the array tuples from the above 'reshapedArray'  into 4 well named variables. Print the 4 variables.\n",
    "\n",
    "import numpy as np\n",
    "\n",
    "\n",
    "reshapedArray = np.array([[[1, 2], [3, 4], [5, 6]],\n",
    "                          [[7, 8], [9, 10], [11, 12]]])\n",
    "\n",
    "\n",
    "(tuple1_1, tuple1_2, _), (tuple2_1, tuple2_2, _) = reshapedArray\n",
    "\n",
    "\n",
    "print(\"Tuple 1:\")\n",
    "print(tuple1_1)\n",
    "print(tuple1_2)\n",
    "print(\"Tuple 2:\")\n",
    "print(tuple2_1)\n",
    "print(tuple2_2)"
   ]
  },
  {
   "cell_type": "code",
   "execution_count": 22,
   "metadata": {},
   "outputs": [
    {
     "name": "stdout",
     "output_type": "stream",
     "text": [
      "[ 0  1  2  3  4  5  6  7 10 11 12 13 14 15 16 17 20 21 22 23 24 25 26 27]\n"
     ]
    }
   ],
   "source": [
    "#Combined and sort the following arrays into one called 'comboArray' ...\n",
    "#    ```python\n",
    "#        one = ([10, 11, 12, 13, 14, 15, 16, 17])\n",
    "#        two = ([20, 21, 22, 23, 24, 25, 26, 27])\n",
    "#        three = ([ 0, 1, 2, 3, 4, 5, 6, 7])\n",
    "#    ```\n",
    "\n",
    "import numpy as np\n",
    "\n",
    "\n",
    "one = np.array([10, 11, 12, 13, 14, 15, 16, 17])\n",
    "two = np.array([20, 21, 22, 23, 24, 25, 26, 27])\n",
    "three = np.array([0, 1, 2, 3, 4, 5, 6, 7])\n",
    "comboArray = np.concatenate((one, two, three))\n",
    "sortedComboArray = np.sort(comboArray)\n",
    "\n",
    "print(sortedComboArray)"
   ]
  },
  {
   "cell_type": "code",
   "execution_count": 23,
   "metadata": {},
   "outputs": [
    {
     "name": "stdout",
     "output_type": "stream",
     "text": [
      "Section 1: 1\n",
      "Section 2: [ 2  3  4  5  6  7 10 11 12 13 14 15 16 17 20 21 22 23 24 25 26 27]\n",
      "Section 3: [ 3  4  5  6  7 10 11 12 13 14 15]\n",
      "Section 4: [22 23 24 25 26 27]\n",
      "Section 5: [ 0  1  2  3  4  5  6  7 10 11 12 13 14 15 16 17]\n",
      "Section 6: [24 26]\n",
      "Section 7: [27 22 15 10  3]\n"
     ]
    }
   ],
   "source": [
    "#Take 'comboArray' and perform the following slicing activities:\n",
    "#    - print sec1 - the 2nd element\n",
    "#    - print sec2 - all elements from the 3rd element to the last\n",
    "#    - print sec3 - all elements from the 4th to the 14th elements\n",
    "#    - print sec4 - the last 6 elements\n",
    "#    - print sec5 - all element from #0 up to and including #15, using the negative number method, i.e. taking a section from the end.\n",
    "#    - print sec6 - from #20 every even element to the end\n",
    "#    - print sec7 - from the last element moving forward, every 5th element.\n",
    "\n",
    "import numpy as np\n",
    "\n",
    "\n",
    "comboArray = np.array([ 0,  1,  2,  3,  4,  5,  6,  7, 10, 11, 12, 13, 14, 15, 16, 17, 20, 21, 22, 23, 24, 25, 26, 27])\n",
    "\n",
    "\n",
    "sec1 = comboArray[1]\n",
    "sec2 = comboArray[2:]\n",
    "sec3 = comboArray[3:14]\n",
    "sec4 = comboArray[-6:]\n",
    "sec5 = comboArray[:16]\n",
    "sec6 = comboArray[20::2]\n",
    "sec7 = comboArray[-1::-5]\n",
    "\n",
    "\n",
    "print(\"Section 1:\", sec1)\n",
    "print(\"Section 2:\", sec2)\n",
    "print(\"Section 3:\", sec3)\n",
    "print(\"Section 4:\", sec4)\n",
    "print(\"Section 5:\", sec5)\n",
    "print(\"Section 6:\", sec6)\n",
    "print(\"Section 7:\", sec7)"
   ]
  },
  {
   "cell_type": "code",
   "execution_count": 26,
   "metadata": {},
   "outputs": [
    {
     "name": "stdout",
     "output_type": "stream",
     "text": [
      "                                Dinner\n",
      "Name                                  \n",
      "Ingredients  [Flour, Milk, Eggs, Spam]\n",
      "Quantity                  [4, 1, 2, 1]\n",
      "Unit           [cups, cup, large, can]\n"
     ]
    }
   ],
   "source": [
    "#Using `Series`, create a `DataFrame` that looks like this:\n",
    "#    | Ingredients | Quantity | Unit |\n",
    "#    |----|----|----|\n",
    "#    | Flour | 4 | cups |\n",
    "#    | Milk | 1 | cup |\n",
    "#    | Eggs | 2 | large |\n",
    "#    | Spam | 1 | can |\n",
    "#    Name: Dinner, dtype: object\n",
    "\n",
    "import pandas as pd\n",
    "\n",
    "\n",
    "data = {\n",
    "    'Ingredients': ['Flour', 'Milk', 'Eggs', 'Spam'],\n",
    "    'Quantity': [4, 1, 2, 1],\n",
    "    'Unit': ['cups', 'cup', 'large', 'can']\n",
    "}\n",
    "ingredients_series = pd.Series(data)\n",
    "\n",
    "df = pd.DataFrame(ingredients_series)\n",
    "df.index.name = 'Name'\n",
    "df.columns = ['Dinner']\n",
    "\n",
    "print(df)\n",
    "\n",
    "\n",
    "\n",
    "\n"
   ]
  },
  {
   "cell_type": "code",
   "execution_count": 27,
   "metadata": {},
   "outputs": [
    {
     "name": "stdout",
     "output_type": "stream",
     "text": [
      "      Name  Height Qualification  address  Age        Pets           sport\n",
      "0      Jai     5.1           Msc    Delhi   21         Dog           Darts\n",
      "1  janusha     6.2            MA     Doha   23       Bunny      Basketball\n",
      "2   Gaurav     5.1           Msc  Chennai   24  Chinchilla  PaddleBoarding\n",
      "3     Anuj     5.2           Msc   Dakhar   21      Parrot         Cricket\n"
     ]
    }
   ],
   "source": [
    "#16. Take this data and create a DataFrame named studentData\n",
    "#    ```Python\n",
    "#        {'Name': ['Jai', 'janusha', 'Gaurav', 'Anuj'],\n",
    "#            'Height': [5.1, 6.2, 5.1, 5.2],\n",
    "#            'Qualification': ['Msc', 'MA', 'Msc', 'Msc'],\n",
    "#            'address': ['Delhi', 'Doha', 'Chennai', 'Dakhar'],\n",
    "#            'Age': [21, 23, 24, 21],\n",
    "#            'Pets': ['Dog', 'Bunny', 'Chinchilla', 'Parrot'],\n",
    "#            'sport': ['Darts', 'Basketball', 'PaddleBoarding', 'Cricket']\n",
    "#        }\n",
    "#    ```\n",
    "\n",
    "import pandas as pd\n",
    "\n",
    "data = {\n",
    "    'Name': ['Jai', 'janusha', 'Gaurav', 'Anuj'],\n",
    "    'Height': [5.1, 6.2, 5.1, 5.2],\n",
    "    'Qualification': ['Msc', 'MA', 'Msc', 'Msc'],\n",
    "    'address': ['Delhi', 'Doha', 'Chennai', 'Dakhar'],\n",
    "    'Age': [21, 23, 24, 21],\n",
    "    'Pets': ['Dog', 'Bunny', 'Chinchilla', 'Parrot'],\n",
    "    'sport': ['Darts', 'Basketball', 'PaddleBoarding', 'Cricket']\n",
    "}\n",
    "\n",
    "studentData = pd.DataFrame(data)\n",
    "\n",
    "print(studentData)"
   ]
  },
  {
   "cell_type": "code",
   "execution_count": 28,
   "metadata": {},
   "outputs": [
    {
     "name": "stdout",
     "output_type": "stream",
     "text": [
      "      Name  Height Qualification  address  Age        Pets           sport  \\\n",
      "0      Jai     5.1           Msc    Delhi   21         Dog           Darts   \n",
      "1  janusha     6.2            MA     Doha   23       Bunny      Basketball   \n",
      "2   Gaurav     5.1           Msc  Chennai   24  Chinchilla  PaddleBoarding   \n",
      "3     Anuj     5.2           Msc   Dakhar   21      Parrot         Cricket   \n",
      "\n",
      "       Desserts  \n",
      "0     ice cream  \n",
      "1  Cashew Fudge  \n",
      "2       waffels  \n",
      "3  Carrot Halwa  \n"
     ]
    }
   ],
   "source": [
    "#17. Add a new column to the DataFrame with the following deserts:\n",
    "#        [\"ice cream\", \"Cashew Fudge\", \"waffels\", \"Carrot Halwa\"]\n",
    "\n",
    "import pandas as pd\n",
    "\n",
    "data = {\n",
    "    'Name': ['Jai', 'janusha', 'Gaurav', 'Anuj'],\n",
    "    'Height': [5.1, 6.2, 5.1, 5.2],\n",
    "    'Qualification': ['Msc', 'MA', 'Msc', 'Msc'],\n",
    "    'address': ['Delhi', 'Doha', 'Chennai', 'Dakhar'],\n",
    "    'Age': [21, 23, 24, 21],\n",
    "    'Pets': ['Dog', 'Bunny', 'Chinchilla', 'Parrot'],\n",
    "    'sport': ['Darts', 'Basketball', 'PaddleBoarding', 'Cricket']\n",
    "}\n",
    "\n",
    "studentData = pd.DataFrame(data)\n",
    "desserts = [\"ice cream\", \"Cashew Fudge\", \"waffels\", \"Carrot Halwa\"]\n",
    "studentData = studentData.assign(Desserts=desserts)\n",
    "\n",
    "print(studentData)"
   ]
  },
  {
   "cell_type": "code",
   "execution_count": 29,
   "metadata": {},
   "outputs": [
    {
     "name": "stdout",
     "output_type": "stream",
     "text": [
      "      Name  Height Qualification  address  Age        Pets           sport  \\\n",
      "3     Anuj     5.2           Msc   Dakhar   21      Parrot         Cricket   \n",
      "2   Gaurav     5.1           Msc  Chennai   24  Chinchilla  PaddleBoarding   \n",
      "0      Jai     5.1           Msc    Delhi   21         Dog           Darts   \n",
      "1  janusha     6.2            MA     Doha   23       Bunny      Basketball   \n",
      "\n",
      "       Desserts  \n",
      "3  Carrot Halwa  \n",
      "2       waffels  \n",
      "0     ice cream  \n",
      "1  Cashew Fudge  \n"
     ]
    }
   ],
   "source": [
    "#18. Sort the 'studentData' DataFrame in Ascending order -- Sorting by column 'Name' and then \"address\"\n",
    "\n",
    "import pandas as pd\n",
    "\n",
    "data = {\n",
    "    'Name': ['Jai', 'janusha', 'Gaurav', 'Anuj'],\n",
    "    'Height': [5.1, 6.2, 5.1, 5.2],\n",
    "    'Qualification': ['Msc', 'MA', 'Msc', 'Msc'],\n",
    "    'address': ['Delhi', 'Doha', 'Chennai', 'Dakhar'],\n",
    "    'Age': [21, 23, 24, 21],\n",
    "    'Pets': ['Dog', 'Bunny', 'Chinchilla', 'Parrot'],\n",
    "    'sport': ['Darts', 'Basketball', 'PaddleBoarding', 'Cricket'],\n",
    "    'Desserts': ['ice cream', 'Cashew Fudge', 'waffels', 'Carrot Halwa']\n",
    "}\n",
    "\n",
    "studentData = pd.DataFrame(data)\n",
    "sorted_studentData = studentData.sort_values(by=['Name', 'address'], ascending=True)\n",
    "\n",
    "print(sorted_studentData)"
   ]
  },
  {
   "cell_type": "code",
   "execution_count": 30,
   "metadata": {},
   "outputs": [
    {
     "name": "stdout",
     "output_type": "stream",
     "text": [
      "DataFrame saved to 'cows_and_goats.csv'\n"
     ]
    }
   ],
   "source": [
    "#19. Save this `DataFrame` here below to disc as a `.CSV` file with the name `cows_and_goats.csv`:\n",
    "#\n",
    "#    ```python\n",
    "#        df = pd.DataFrame({'Cows': [12, 20], 'Goats': [22, 19]}, index=['Year 1', 'Year 2'])\n",
    "#```\n",
    "\n",
    "import pandas as pd\n",
    "\n",
    "\n",
    "df = pd.DataFrame({'Cows': [12, 20], 'Goats': [22, 19]}, index=['Year 1', 'Year 2'])\n",
    "df.to_csv('cows_and_goats.csv')\n",
    "\n",
    "print(\"DataFrame saved to 'cows_and_goats.csv'\")\n"
   ]
  },
  {
   "cell_type": "code",
   "execution_count": 31,
   "metadata": {},
   "outputs": [
    {
     "name": "stdout",
     "output_type": "stream",
     "text": [
      "Original DataFrame saved to 'vegetables.csv'\n"
     ]
    }
   ],
   "source": [
    "#20. (A) Using Pandas, make your own .CSV file with data on vegetables and save it.\n",
    "#(B) Using Pandas, make a change to your CSV file, and save a copy with a different name.\n",
    "\n",
    "import pandas as pd\n",
    "\n",
    "data = {\n",
    "    'Vegetable': ['Carrot', 'Broccoli', 'Tomato', 'Spinach', 'Pepper'],\n",
    "    'Color': ['Orange', 'Green', 'Red', 'Green', 'Red'],\n",
    "    'Taste': ['Sweet', 'Nutty', 'Sour', 'Mild', 'Spicy']\n",
    "}\n",
    "\n",
    "vegetables_df = pd.DataFrame(data)\n",
    "vegetables_df.to_csv('vegetables.csv', index=False)\n",
    "\n",
    "print(\"Original DataFrame saved to 'vegetables.csv'\")"
   ]
  }
 ],
 "metadata": {
  "kernelspec": {
   "display_name": "Python 3",
   "language": "python",
   "name": "python3"
  },
  "language_info": {
   "codemirror_mode": {
    "name": "ipython",
    "version": 3
   },
   "file_extension": ".py",
   "mimetype": "text/x-python",
   "name": "python",
   "nbconvert_exporter": "python",
   "pygments_lexer": "ipython3",
   "version": "3.11.4"
  },
  "orig_nbformat": 4
 },
 "nbformat": 4,
 "nbformat_minor": 2
}
