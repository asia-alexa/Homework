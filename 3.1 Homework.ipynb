{
 "cells": [
  {
   "cell_type": "markdown",
   "metadata": {},
   "source": [
    "#***1. What is an algorithm?***\n",
    "\n",
    "- An alogorithm is a series of steps tp solve a problem at hand.\n",
    "\n",
    "#***2.Variable names may not start with certain characters - name two***\n",
    "\n",
    "- Variable names have to begin with a letter or an underscore\n",
    "\n",
    "\n",
    "#***3.What is a Semantic error?***\n",
    "\n",
    "- A semantic error is a code generally correct but doesn't make any sense; it does not produce the expected results.\n",
    "\n",
    "#***4.What is the #1 rule of coding / debugging?***\n",
    "\n",
    "- Complecity is the energy to efficiency\n",
    "\n",
    "#***5.List 5 Python reserved words***\n",
    "\n",
    "- True\n",
    "\n",
    "\n",
    "- and\n",
    "\n",
    "- finally\n",
    "\n",
    "- yield\n",
    "\n",
    "- none\n",
    "\n"
   ]
  },
  {
   "cell_type": "code",
   "execution_count": 4,
   "metadata": {},
   "outputs": [
    {
     "name": "stdout",
     "output_type": "stream",
     "text": [
      "Asia\n",
      "French Fries\n",
      "Data Analyst\n"
     ]
    }
   ],
   "source": [
    "g= \"Asia\"\n",
    "t=\"French Fries\"\n",
    "k=\"Data Analyst\"\n",
    "\n",
    "print(g)\n",
    "print(t)\n",
    "print(k)\n"
   ]
  },
  {
   "cell_type": "code",
   "execution_count": 4,
   "metadata": {},
   "outputs": [
    {
     "name": "stdout",
     "output_type": "stream",
     "text": [
      "Welcome In\n",
      "The length of Welcome In is ...  10\n",
      "Index of the 4th character: 3\n",
      "True\n",
      "98.6\n",
      "(20, 40, 50, 60)\n",
      "('Apple', 'blueberry', 'mango')\n"
     ]
    }
   ],
   "source": [
    "l= str(\"Welcome In\")\n",
    "is_good = True\n",
    "temperature = 98.6\n",
    "numbers=(20,40,50,60)\n",
    "fruit= (\"Apple\", \"blueberry\", \"mango\")\n",
    "\n",
    "\n",
    "print(l)\n",
    "print(\"The length of Welcome In is ... \", len(l))\n",
    "print(\"Index of the 4th character:\", 3)\n",
    "print(is_good)\n",
    "print(temperature)\n",
    "print(numbers)\n",
    "print(fruit)\n"
   ]
  },
  {
   "cell_type": "code",
   "execution_count": 5,
   "metadata": {},
   "outputs": [
    {
     "name": "stdout",
     "output_type": "stream",
     "text": [
      "Learning Data Analytics and Python is Great \n",
      "Learning Data Analytics and Python is Amesome! \n",
      "ing Data Analytics and \n",
      "Contains 'Python': True\n"
     ]
    }
   ],
   "source": [
    "savvy = str(\"Learning Data Analytics and Python is Amesome! \")\n",
    "print(savvy.replace(\"Amesome!\", \"Great\"))\n",
    "print(savvy)\n",
    "print(savvy[5:28])\n",
    "contains_python = \"Python\" in savvy\n",
    "print(\"Contains 'Python':\", contains_python)\n",
    "\n",
    "\n",
    "\n"
   ]
  },
  {
   "cell_type": "code",
   "execution_count": 60,
   "metadata": {},
   "outputs": [
    {
     "name": "stdout",
     "output_type": "stream",
     "text": [
      "name age length\n",
      "Hi my name is {Asia}, I am {short} and {26 years} old today\n",
      "26.0\n"
     ]
    }
   ],
   "source": [
    "g,h,i=(\"name\", \"age\", \"length\")\n",
    "print(g,h,i)\n",
    "miniBio= str(\"Hi my name is {Asia}, I am {short} and {26 years} old today\")\n",
    "print(miniBio)\n",
    "a = float(26)\n",
    "print(a)"
   ]
  },
  {
   "cell_type": "code",
   "execution_count": 18,
   "metadata": {},
   "outputs": [
    {
     "name": "stdout",
     "output_type": "stream",
     "text": [
      "[26, 'Asia', 17.5, 1997, [20, 40, 60], 0]\n",
      "[13, 'Halloween', 17.5, 1997, [20, 40, 60]]\n",
      " replaced [1:2] ... [13, '20', 'Chucky', 17.5, 1997, [20, 40, 60]]\n",
      "New list ... [13, '20', 'Chucky', 17.5, 1997, [20, 40, 60], 'Halloween']\n",
      "Size of the list =  7\n",
      "['20', 'Chucky', 17.5]\n",
      "Extend list2 ... ['Drama', 'Comedy', 'Romance', '20', 'Chucky', 17.5]\n"
     ]
    }
   ],
   "source": [
    "S=[26,\"Asia\", 17.5, 1997, [20,40,60], 0]\n",
    "print(S)\n",
    "\n",
    "horror=[13,\"Halloween\", 17.5,1997, [20,40,60]] \n",
    "list2=[\"Drama\", \"Comedy\", \"Romance\"]\n",
    "print(horror)\n",
    "horror[1:2] = [\"20\",\"Chucky\"]\n",
    "print(\" replaced [1:2] ...\", horror)\n",
    "horror.append(\"Halloween\")\n",
    "print(\"New list ...\", horror)\n",
    "listLength = len(horror)\n",
    "print(\"Size of the list = \", listLength)\n",
    "print(horror[1:4])\n",
    "list2.extend(horror[1:4])\n",
    "print(\"Extend list2 ...\", list2)\n",
    "\n",
    "\n",
    "\n",
    "\n",
    "\n",
    "\n",
    "\n",
    "\n",
    "\n",
    "\n",
    "\n",
    "\n",
    "\n"
   ]
  },
  {
   "cell_type": "code",
   "execution_count": 34,
   "metadata": {},
   "outputs": [
    {
     "name": "stdout",
     "output_type": "stream",
     "text": [
      "sort simList in reverse -  ['Yellow', 'Red', 'Orange', 'Green', 'Blue']\n",
      "['Yellow', 'Red', 'Orange', 'Green', 'Blue']\n",
      "New added list ... ['Drama', 'Comedy', 'Romance', '20', 'Chucky', 17.5, 'Yellow', 'Red', 'Orange', 'Green', 'Blue']\n"
     ]
    }
   ],
   "source": [
    "simList=['Blue', 'Red','Yellow', 'Green', 'Orange']\n",
    "simList.sort(reverse=True)\n",
    "print(\"sort simList in reverse - \", simList)\n",
    "import copy\n",
    "other_list = copy.deepcopy(simList)\n",
    "print(other_list)\n",
    "list4 = list2 + other_list\n",
    "print(\"New added list ...\", list4)\n",
    "\n"
   ]
  },
  {
   "cell_type": "code",
   "execution_count": 16,
   "metadata": {},
   "outputs": [
    {
     "name": "stdout",
     "output_type": "stream",
     "text": [
      "Tuple 2: (20, 40, 60, 80, 100, 20, 40, 60, 80, 100, 20, 40, 60, 80, 100)\n",
      "\n",
      "tup2[12] ... 60\n",
      "Tuple 3: (80, 100, 20, 40)\n",
      "Unpacked variables from tuple 3: 80 100 20 40\n",
      "Tuple 4: (50,)\n",
      "Tuple 5: (20, 40, 60, 80, 100, 20, 40, 60, 80, 100, 20, 40, 60, 80, 100, 80, 100, 20, 40)\n"
     ]
    }
   ],
   "source": [
    "Tup1=(20,40,60,80,100)\n",
    "tup2 = Tup1 * 3\n",
    "print(\"Tuple 2:\", tup2)\n",
    "tup2 = timesTuple\n",
    "\n",
    "print(\"\\ntup2[12] ...\", tup2[12])\n",
    "sorted(tup2)\n",
    "\n",
    "tup3 = tup2[3:7]\n",
    "print(\"Tuple 3:\", tup3)\n",
    "\n",
    "var1, var2, var3, var4 = tup3\n",
    "print(\"Unpacked variables from tuple 3:\", var1, var2, var3, var4)\n",
    "\n",
    "tup4 = (50,)\n",
    "print(\"Tuple 4:\", tup4)\n",
    "\n",
    "tup5 = tup2 + tup3\n",
    "print(\"Tuple 5:\", tup5)\n",
    "\n",
    "\n",
    "\n",
    "\n",
    "\n",
    "\n",
    "\n"
   ]
  },
  {
   "cell_type": "code",
   "execution_count": 74,
   "metadata": {},
   "outputs": [
    {
     "name": "stdout",
     "output_type": "stream",
     "text": [
      "\n",
      "updated Set ... {3, 5, 6, 'oranges', 'apples', 'bananas'}\n",
      "set1 ... {'Wheels', 3, 5, 6, 'oranges', 'apples', 'bananas'}\n",
      "\n",
      "United sets ...\n",
      " {'Wheels', 3, 5, 6, 'dog', 'license', 'oranges', 'ice cream', 'apples', 'bananas'}\n",
      "reduced set2 ... {'license', 'ice cream'}\n",
      "cleared set1 ... set()\n",
      "reduced set3 ... {3, 5, 6, 'dog', 'oranges', 'ice cream', 'apples', 'bananas'}\n"
     ]
    }
   ],
   "source": [
    "set1={3,5,6}\n",
    "mylist=[\"apples\", \"oranges\", \"bananas\"]\n",
    "set1.update(mylist)\n",
    "print(\"\\nupdated Set ...\", set1)\n",
    "set1.add(\"Wheels\")\n",
    "print(\"set1 ...\", set1)\n",
    "set2={\"dog\", \"license\", \"ice cream\"}\n",
    "set3 = set1.union(set2)\n",
    "print(\"\\nUnited sets ...\\n\", set3)\n",
    "set2.remove(\"dog\")\n",
    "print(\"reduced set2 ...\", set2)\n",
    "set1.clear()\n",
    "print(\"cleared set1 ...\", set1)\n",
    "set3.remove(\"Wheels\")\n",
    "set3.discard(\"license\")\n",
    "print(\"reduced set3 ...\", set3)\n",
    "\n"
   ]
  },
  {
   "cell_type": "code",
   "execution_count": 24,
   "metadata": {},
   "outputs": [
    {
     "name": "stdout",
     "output_type": "stream",
     "text": [
      "26.5\n",
      "List of keys: ['year', 'gender', 'hair color', 'age', 'extrover', 'favorite color', 'tuple example']\n",
      "List of values: ['Your Name', 'Female', ['black', 'blonde', 'honey blonde'], 26.5, True, 'Grey', (1, 2, 3)]\n",
      "Second dictionary after popping an item: {'year': 'Your Name', 'hair color': ['black', 'blonde', 'honey blonde'], 'age': 26.5, 'extrover': True, 'favorite color': 'Grey', 'tuple example': (1, 2, 3)}\n",
      "Second dictionary after clearing: {}\n"
     ]
    }
   ],
   "source": [
    "thisDict = {\n",
    "    \"year\": 1997,\n",
    "    \"gender\": \"Female\",\n",
    "    \"hair color\": [\"black\", \"blonde\", \"honey blonde\"],\n",
    "    \"age\": 26.5,\n",
    "    \"extrover\": True,\n",
    "}\n",
    "\n",
    "print(thisDict[\"age\"])\n",
    "\n",
    "thisDict[\"year\"] = \"Your Name\"\n",
    "thisDict[\"favorite color\"] = \"Grey\"\n",
    "thisDict[\"tuple example\"] = (1, 2, 3)\n",
    "\n",
    "keys_list = list(thisDict.keys())\n",
    "print(\"List of keys:\", keys_list)\n",
    "\n",
    "values_list = list(thisDict.values())\n",
    "print(\"List of values:\", values_list)\n",
    "\n",
    "secondDict = thisDict.copy()\n",
    "\n",
    "secondDict.pop(\"gender\")\n",
    "\n",
    "print(\"Second dictionary after popping an item:\", secondDict)\n",
    "\n",
    "secondDict.clear()\n",
    "\n",
    "print(\"Second dictionary after clearing:\", secondDict)\n",
    "\n",
    "\n",
    "\n"
   ]
  }
 ],
 "metadata": {
  "kernelspec": {
   "display_name": "Python 3",
   "language": "python",
   "name": "python3"
  },
  "language_info": {
   "codemirror_mode": {
    "name": "ipython",
    "version": 3
   },
   "file_extension": ".py",
   "mimetype": "text/x-python",
   "name": "python",
   "nbconvert_exporter": "python",
   "pygments_lexer": "ipython3",
   "version": "3.11.4"
  },
  "orig_nbformat": 4
 },
 "nbformat": 4,
 "nbformat_minor": 2
}
